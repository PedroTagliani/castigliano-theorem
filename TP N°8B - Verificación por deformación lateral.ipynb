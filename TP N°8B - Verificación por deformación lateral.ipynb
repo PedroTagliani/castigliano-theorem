{
 "cells": [
  {
   "cell_type": "markdown",
   "id": "dffa4958",
   "metadata": {},
   "source": [
    "<h1 align='center'><u>TP N°8 - Verificación por deformación lateral</u></h1>"
   ]
  },
  {
   "cell_type": "markdown",
   "id": "7469a041",
   "metadata": {},
   "source": [
    "<br><p><b>Materia:</b> Diseño de componentes de máquinas.</p>\n",
    "<p><b>Estudiante:</b> Pedro Tagliani.</p>\n"
   ]
  },
  {
   "cell_type": "markdown",
   "id": "24b453f3",
   "metadata": {},
   "source": [
    "<h3>Librerías a utilizar:</h3>"
   ]
  },
  {
   "cell_type": "code",
   "execution_count": 1,
   "id": "7471dad8",
   "metadata": {},
   "outputs": [],
   "source": [
    "import numpy as np\n",
    "import matplotlib.pyplot as plt\n",
    "import sympy as sym\n",
    "from IPython.display import display"
   ]
  },
  {
   "cell_type": "markdown",
   "id": "38adb3dd",
   "metadata": {},
   "source": [
    "<h3>Cálculo de los momentos de inercia para los tramos del árbol de transmisión:</h3>"
   ]
  },
  {
   "cell_type": "code",
   "execution_count": 2,
   "id": "32e6102b",
   "metadata": {},
   "outputs": [],
   "source": [
    "# Diámetro de los tramos:\n",
    "da = 0.075\n",
    "db = 0.08\n",
    "dc = 0.09\n",
    "dd = 0.08\n",
    "de = 0.075\n",
    "\n",
    "# Momento de inercia para cada uno de los tramos:\n",
    "ja = (np.pi*(da/2)**4)/4\n",
    "jb = (np.pi*(db/2)**4)/4\n",
    "jc = (np.pi*(dc/2)**4)/4\n",
    "jd = (np.pi*(dd/2)**4)/4\n",
    "je = (np.pi*(de/2)**4)/4"
   ]
  },
  {
   "cell_type": "markdown",
   "id": "3c3a6418",
   "metadata": {},
   "source": [
    "<h3>Análisis para el tramo vertical (XY):</h3>"
   ]
  },
  {
   "cell_type": "code",
   "execution_count": 3,
   "id": "c9eb75c1",
   "metadata": {},
   "outputs": [
    {
     "name": "stdout",
     "output_type": "stream",
     "text": [
      "Momento flector 1: mf1 = 0\n",
      "Momento flector 2: mf2 = -PA*(x - 0.04)\n",
      "Momento flector 3: mf3 = -PA*(x - 0.04) + RAY*(x - 0.125)\n",
      "Momento flector 4: mf4 = -PA*(x - 0.04) + RAY*(x - 0.125) + RBY*(x - 0.375)\n",
      "Momento flector 5: mf5 = -PA*(x - 0.04) - PP*(x - 0.46) + RAY*(x - 0.125) + RBY*(x - 0.375)\n"
     ]
    }
   ],
   "source": [
    "# Defino las variables simbólicas:\n",
    "x, E, JA, JB, JC, JD, JE, PA, PP, RAY, RBY = sym.symbols('x, E, JA, JB, JC, JD, JE, PA, PP, RAY, RBY')\n",
    "\n",
    "# Defino los momentos flectores:\n",
    "mf1_xy = 0\n",
    "mf2_xy = -PA*(x - 0.04)\n",
    "mf3_xy = -PA*(x - 0.04) + RAY*(x - 0.125)\n",
    "mf4_xy = -PA*(x - 0.04) + RAY*(x - 0.125) + RBY*(x - 0.375)\n",
    "mf5_xy = -PA*(x - 0.04) + RAY*(x - 0.125) + RBY*(x - 0.375) - PP*(x-0.460)\n",
    "\n",
    "# Imprimo los momentos flectores:\n",
    "print('Momento flector 1: mf1 =',mf1_xy)\n",
    "print('Momento flector 2: mf2 =',mf2_xy)\n",
    "print('Momento flector 3: mf3 =',mf3_xy)\n",
    "print('Momento flector 4: mf4 =',mf4_xy)\n",
    "print('Momento flector 5: mf5 =',mf5_xy)"
   ]
  },
  {
   "cell_type": "code",
   "execution_count": 4,
   "id": "a3abdc02",
   "metadata": {},
   "outputs": [
    {
     "data": {
      "text/latex": [
       "$\\displaystyle \\int\\limits_{0}^{0.04} 0\\, dx$"
      ],
      "text/plain": [
       "Integral(0, (x, 0, 0.04))"
      ]
     },
     "metadata": {},
     "output_type": "display_data"
    },
    {
     "data": {
      "text/latex": [
       "$\\displaystyle \\int\\limits_{0.04}^{0.08} \\frac{PA^{2} \\left(x - 0.04\\right)^{2}}{2 E JA}\\, dx$"
      ],
      "text/plain": [
       "Integral(PA**2*(x - 0.04)**2/(2*E*JA), (x, 0.04, 0.08))"
      ]
     },
     "metadata": {},
     "output_type": "display_data"
    },
    {
     "data": {
      "text/latex": [
       "$\\displaystyle \\int\\limits_{0.08}^{0.125} \\frac{PA^{2} \\left(x - 0.04\\right)^{2}}{2 E JB}\\, dx$"
      ],
      "text/plain": [
       "Integral(PA**2*(x - 0.04)**2/(2*E*JB), (x, 0.08, 0.125))"
      ]
     },
     "metadata": {},
     "output_type": "display_data"
    },
    {
     "data": {
      "text/latex": [
       "$\\displaystyle \\int\\limits_{0.125}^{0.17} \\frac{\\left(- PA \\left(x - 0.04\\right) + RAY \\left(x - 0.125\\right)\\right)^{2}}{2 E JB}\\, dx$"
      ],
      "text/plain": [
       "Integral((-PA*(x - 0.04) + RAY*(x - 0.125))**2/(2*E*JB), (x, 0.125, 0.17))"
      ]
     },
     "metadata": {},
     "output_type": "display_data"
    },
    {
     "data": {
      "text/latex": [
       "$\\displaystyle \\int\\limits_{0.17}^{0.33} \\frac{\\left(- PA \\left(x - 0.04\\right) + RAY \\left(x - 0.125\\right)\\right)^{2}}{2 E JC}\\, dx$"
      ],
      "text/plain": [
       "Integral((-PA*(x - 0.04) + RAY*(x - 0.125))**2/(2*E*JC), (x, 0.17, 0.33))"
      ]
     },
     "metadata": {},
     "output_type": "display_data"
    },
    {
     "data": {
      "text/latex": [
       "$\\displaystyle \\int\\limits_{0.33}^{0.375} \\frac{\\left(- PA \\left(x - 0.04\\right) + RAY \\left(x - 0.125\\right)\\right)^{2}}{2 E JD}\\, dx$"
      ],
      "text/plain": [
       "Integral((-PA*(x - 0.04) + RAY*(x - 0.125))**2/(2*E*JD), (x, 0.33, 0.375))"
      ]
     },
     "metadata": {},
     "output_type": "display_data"
    },
    {
     "data": {
      "text/latex": [
       "$\\displaystyle \\int\\limits_{0.375}^{0.42} \\frac{\\left(- PA \\left(x - 0.04\\right) + RAY \\left(x - 0.125\\right) + RBY \\left(x - 0.375\\right)\\right)^{2}}{2 E JD}\\, dx$"
      ],
      "text/plain": [
       "Integral((-PA*(x - 0.04) + RAY*(x - 0.125) + RBY*(x - 0.375))**2/(2*E*JD), (x, 0.375, 0.42))"
      ]
     },
     "metadata": {},
     "output_type": "display_data"
    },
    {
     "data": {
      "text/latex": [
       "$\\displaystyle \\int\\limits_{0.42}^{0.46} \\frac{\\left(- PA \\left(x - 0.04\\right) + RAY \\left(x - 0.125\\right) + RBY \\left(x - 0.375\\right)\\right)^{2}}{2 E JE}\\, dx$"
      ],
      "text/plain": [
       "Integral((-PA*(x - 0.04) + RAY*(x - 0.125) + RBY*(x - 0.375))**2/(2*E*JE), (x, 0.42, 0.46))"
      ]
     },
     "metadata": {},
     "output_type": "display_data"
    },
    {
     "data": {
      "text/latex": [
       "$\\displaystyle \\int\\limits_{0.46}^{0.5} \\frac{\\left(- PA \\left(x - 0.04\\right) - PP \\left(x - 0.46\\right) + RAY \\left(x - 0.125\\right) + RBY \\left(x - 0.375\\right)\\right)^{2}}{2 E JD}\\, dx$"
      ],
      "text/plain": [
       "Integral((-PA*(x - 0.04) - PP*(x - 0.46) + RAY*(x - 0.125) + RBY*(x - 0.375))**2/(2*E*JD), (x, 0.46, 0.5))"
      ]
     },
     "metadata": {},
     "output_type": "display_data"
    }
   ],
   "source": [
    "# Defino las energías de deformación:\n",
    "U1_xy = sym.Integral((mf1_xy**2)/(2*E*JA), (x, 0, 0.04))\n",
    "U2_xy = sym.Integral((mf2_xy**2)/(2*E*JA), (x,0.04,0.08))\n",
    "U3_xy = sym.Integral((mf2_xy**2)/(2*E*JB), (x,0.08,0.125))\n",
    "U4_xy = sym.Integral((mf3_xy**2)/(2*E*JB), (x,0.125,0.170))\n",
    "U5_xy = sym.Integral((mf3_xy**2)/(2*E*JC), (x,0.170,0.330))\n",
    "U6_xy = sym.Integral((mf3_xy**2)/(2*E*JD), (x,0.330,0.375))\n",
    "U7_xy = sym.Integral((mf4_xy**2)/(2*E*JD), (x,0.375,0.420))\n",
    "U8_xy = sym.Integral((mf4_xy**2)/(2*E*JE), (x,0.420,0.460))\n",
    "U9_xy = sym.Integral((mf5_xy**2)/(2*E*JD), (x,0.460,0.500))\n",
    "\n",
    "# Imprimo las energías de deformación:\n",
    "display(U1_xy)\n",
    "display(U2_xy)\n",
    "display(U3_xy)\n",
    "display(U4_xy)\n",
    "display(U5_xy)\n",
    "display(U6_xy)\n",
    "display(U7_xy)\n",
    "display(U8_xy)\n",
    "display(U9_xy)"
   ]
  },
  {
   "cell_type": "code",
   "execution_count": 5,
   "id": "5ff5e4b7",
   "metadata": {},
   "outputs": [
    {
     "name": "stdout",
     "output_type": "stream",
     "text": [
      "Derivada parcial de la energía de deformación total en XY respecto del peso del acople (PA):\n"
     ]
    },
    {
     "data": {
      "text/latex": [
       "$\\displaystyle \\frac{0.00640533333333334 PA}{E JE} - \\frac{0.00504533333333333 RAY}{E JE} - \\frac{0.00104533333333333 RBY}{E JE} + \\frac{0.0179103333333333 PA}{E JD} + \\frac{0.000357333333333334 PP}{E JD} - \\frac{0.0138515833333333 RAY}{E JD} - \\frac{0.00222289583333334 RBY}{E JD} + \\frac{0.00739733333333333 PA}{E JC} - \\frac{0.00454133333333333 RAY}{E JC} + \\frac{0.000711 PA}{E JB} - \\frac{0.0001164375 RAY}{E JB} + \\frac{2.13333333333333 \\cdot 10^{-5} PA}{E JA}$"
      ],
      "text/plain": [
       "0.00640533333333334*PA/(E*JE) - 0.00504533333333333*RAY/(E*JE) - 0.00104533333333333*RBY/(E*JE) + 0.0179103333333333*PA/(E*JD) + 0.000357333333333334*PP/(E*JD) - 0.0138515833333333*RAY/(E*JD) - 0.00222289583333334*RBY/(E*JD) + 0.00739733333333333*PA/(E*JC) - 0.00454133333333333*RAY/(E*JC) + 0.000711*PA/(E*JB) - 0.0001164375*RAY/(E*JB) + 2.13333333333333e-5*PA/(E*JA)"
      ]
     },
     "metadata": {},
     "output_type": "display_data"
    },
    {
     "name": "stdout",
     "output_type": "stream",
     "text": [
      "\n",
      "Derivada parcial de la energía de deformación total en XY respecto del peso del piñón (PP):\n"
     ]
    },
    {
     "data": {
      "text/latex": [
       "$\\displaystyle \\frac{0.000357333333333333 PA + 2.13333333333315 \\cdot 10^{-5} PP - 0.000289333333333336 RAY - 8.93333333333336 \\cdot 10^{-5} RBY}{E JD}$"
      ],
      "text/plain": [
       "(0.000357333333333333*PA + 2.13333333333315e-5*PP - 0.000289333333333336*RAY - 8.93333333333336e-5*RBY)/(E*JD)"
      ]
     },
     "metadata": {},
     "output_type": "display_data"
    }
   ],
   "source": [
    "# Resuelvo las integrales:\n",
    "U1_xy_solved = U1_xy.doit()\n",
    "U2_xy_solved = U2_xy.doit()\n",
    "U3_xy_solved = U3_xy.doit()\n",
    "U4_xy_solved = U4_xy.doit()\n",
    "U5_xy_solved = U5_xy.doit()\n",
    "U6_xy_solved = U6_xy.doit()\n",
    "U7_xy_solved = U7_xy.doit()\n",
    "U8_xy_solved = U8_xy.doit()\n",
    "U9_xy_solved = U9_xy.doit()\n",
    "\n",
    "# Sumo todas las energías de deformación del plano XY:\n",
    "U_xy = U1_xy_solved + U2_xy_solved + U3_xy_solved + U4_xy_solved + U5_xy_solved + U6_xy_solved + U7_xy_solved + U8_xy_solved + U9_xy_solved\n",
    "\n",
    "# Resuelvo la derivada parcial de la energía de deformación total en XY respecto del peso del acople (PA):\n",
    "desplazamiento_acople_xy = sym.diff(U_xy,PA)\n",
    "\n",
    "# Resuelvo la derivada parcial de la energía de deformación total en XY respecto del peso del piñón (PP):\n",
    "desplazamiento_piñon_xy = sym.diff(U_xy,PP)\n",
    "\n",
    "print('Derivada parcial de la energía de deformación total en XY respecto del peso del acople (PA):')\n",
    "display(sym.simplify(desplazamiento_acople_xy))\n",
    "\n",
    "print('\\nDerivada parcial de la energía de deformación total en XY respecto del peso del piñón (PP):')\n",
    "display(sym.simplify(desplazamiento_piñon_xy))"
   ]
  },
  {
   "cell_type": "code",
   "execution_count": 6,
   "id": "095e8947",
   "metadata": {},
   "outputs": [
    {
     "name": "stdout",
     "output_type": "stream",
     "text": [
      "El desplazamiento colineal al peso del acople en el plano vertical es de 0.00000186236955053514m.\n",
      "El desplazamiento colineal al peso del piñón en el plano vertical es de -9.47350852307431E-13m.\n"
     ]
    }
   ],
   "source": [
    "# Evalúo el desplazamiento en el acople (plano XY):\n",
    "desplazamiento_acople_xy_evaluado = desplazamiento_acople_xy.subs([(E, 210000000000), (PA, 127.53), (RAY, 113.15), (RBY, 184.21), (PP, 169.83), (JA, ja), (JB, jb), (JC, jc), (JD, jd), (JE, je)])\n",
    "print(f'El desplazamiento colineal al peso del acople en el plano vertical es de {desplazamiento_acople_xy_evaluado}m.')\n",
    "\n",
    "# Evalúo el desplazamiento en el piñón (plano XY):\n",
    "desplazamiento_piñon_xy_evaluado = desplazamiento_piñon_xy.subs([(E, 210000000000), (PA, 127.53), (RAY, 113.15), (RBY, 184.21), (PP, 169.83), (JA, ja), (JB, jb), (JC, jc), (JD, jd), (JE, je)])\n",
    "print(f'El desplazamiento colineal al peso del piñón en el plano vertical es de {desplazamiento_piñon_xy_evaluado}m.')"
   ]
  },
  {
   "cell_type": "markdown",
   "id": "d8fc60cb",
   "metadata": {},
   "source": [
    "<h3>Análisis para el tramo horizontal (XZ):</h3>"
   ]
  },
  {
   "cell_type": "code",
   "execution_count": 7,
   "id": "7be2bb2a",
   "metadata": {},
   "outputs": [
    {
     "name": "stdout",
     "output_type": "stream",
     "text": [
      "Momento flector 1: mf1 = 0\n",
      "Momento flector 2: mf2 = -CI*(x - 0.04)\n",
      "Momento flector 3: mf3 = -CI*(x - 0.04) + RAZ*(x - 0.125)\n",
      "Momento flector 4: mf4 = -CI*(x - 0.04) + RAZ*(x - 0.125) - RBZ*(x - 0.375)\n",
      "Momento flector 5: mf5 = -CI*(x - 0.04) - FT*(x - 0.46) + RAZ*(x - 0.125) - RBZ*(x - 0.375)\n"
     ]
    }
   ],
   "source": [
    "FT, RAZ, RBZ, CI = sym.symbols('FT, RAZ, RBZ, CI')\n",
    "\n",
    "# Defino los momentos flectores:\n",
    "mf1_xz = 0\n",
    "mf2_xz = -CI*(x - 0.04)\n",
    "mf3_xz = -CI*(x - 0.04) + RAZ*(x - 0.125)\n",
    "mf4_xz = -CI*(x - 0.04) + RAZ*(x - 0.125) - RBZ*(x - 0.375)\n",
    "mf5_xz = -CI*(x - 0.04) + RAZ*(x - 0.125) - RBZ*(x - 0.375) - FT*(x-0.460)\n",
    "\n",
    "# Imprimo los momentos flectores:\n",
    "print('Momento flector 1: mf1 =',mf1_xz)\n",
    "print('Momento flector 2: mf2 =',mf2_xz)\n",
    "print('Momento flector 3: mf3 =',mf3_xz)\n",
    "print('Momento flector 4: mf4 =',mf4_xz)\n",
    "print('Momento flector 5: mf5 =',mf5_xz)"
   ]
  },
  {
   "cell_type": "code",
   "execution_count": 8,
   "id": "c9bc75a3",
   "metadata": {},
   "outputs": [
    {
     "data": {
      "text/latex": [
       "$\\displaystyle \\int\\limits_{0}^{0.04} 0\\, dx$"
      ],
      "text/plain": [
       "Integral(0, (x, 0, 0.04))"
      ]
     },
     "metadata": {},
     "output_type": "display_data"
    },
    {
     "data": {
      "text/latex": [
       "$\\displaystyle \\int\\limits_{0.04}^{0.08} \\frac{CI^{2} \\left(x - 0.04\\right)^{2}}{2 E JA}\\, dx$"
      ],
      "text/plain": [
       "Integral(CI**2*(x - 0.04)**2/(2*E*JA), (x, 0.04, 0.08))"
      ]
     },
     "metadata": {},
     "output_type": "display_data"
    },
    {
     "data": {
      "text/latex": [
       "$\\displaystyle \\int\\limits_{0.08}^{0.125} \\frac{CI^{2} \\left(x - 0.04\\right)^{2}}{2 E JB}\\, dx$"
      ],
      "text/plain": [
       "Integral(CI**2*(x - 0.04)**2/(2*E*JB), (x, 0.08, 0.125))"
      ]
     },
     "metadata": {},
     "output_type": "display_data"
    },
    {
     "data": {
      "text/latex": [
       "$\\displaystyle \\int\\limits_{0.125}^{0.17} \\frac{\\left(- CI \\left(x - 0.04\\right) + RAZ \\left(x - 0.125\\right)\\right)^{2}}{2 E JB}\\, dx$"
      ],
      "text/plain": [
       "Integral((-CI*(x - 0.04) + RAZ*(x - 0.125))**2/(2*E*JB), (x, 0.125, 0.17))"
      ]
     },
     "metadata": {},
     "output_type": "display_data"
    },
    {
     "data": {
      "text/latex": [
       "$\\displaystyle \\int\\limits_{0.17}^{0.33} \\frac{\\left(- CI \\left(x - 0.04\\right) + RAZ \\left(x - 0.125\\right)\\right)^{2}}{2 E JC}\\, dx$"
      ],
      "text/plain": [
       "Integral((-CI*(x - 0.04) + RAZ*(x - 0.125))**2/(2*E*JC), (x, 0.17, 0.33))"
      ]
     },
     "metadata": {},
     "output_type": "display_data"
    },
    {
     "data": {
      "text/latex": [
       "$\\displaystyle \\int\\limits_{0.33}^{0.375} \\frac{\\left(- CI \\left(x - 0.04\\right) + RAZ \\left(x - 0.125\\right)\\right)^{2}}{2 E JD}\\, dx$"
      ],
      "text/plain": [
       "Integral((-CI*(x - 0.04) + RAZ*(x - 0.125))**2/(2*E*JD), (x, 0.33, 0.375))"
      ]
     },
     "metadata": {},
     "output_type": "display_data"
    },
    {
     "data": {
      "text/latex": [
       "$\\displaystyle \\int\\limits_{0.375}^{0.42} \\frac{\\left(- CI \\left(x - 0.04\\right) + RAZ \\left(x - 0.125\\right) - RBZ \\left(x - 0.375\\right)\\right)^{2}}{2 E JD}\\, dx$"
      ],
      "text/plain": [
       "Integral((-CI*(x - 0.04) + RAZ*(x - 0.125) - RBZ*(x - 0.375))**2/(2*E*JD), (x, 0.375, 0.42))"
      ]
     },
     "metadata": {},
     "output_type": "display_data"
    },
    {
     "data": {
      "text/latex": [
       "$\\displaystyle \\int\\limits_{0.42}^{0.46} \\frac{\\left(- CI \\left(x - 0.04\\right) + RAZ \\left(x - 0.125\\right) - RBZ \\left(x - 0.375\\right)\\right)^{2}}{2 E JE}\\, dx$"
      ],
      "text/plain": [
       "Integral((-CI*(x - 0.04) + RAZ*(x - 0.125) - RBZ*(x - 0.375))**2/(2*E*JE), (x, 0.42, 0.46))"
      ]
     },
     "metadata": {},
     "output_type": "display_data"
    },
    {
     "data": {
      "text/latex": [
       "$\\displaystyle \\int\\limits_{0.46}^{0.5} \\frac{\\left(- CI \\left(x - 0.04\\right) - FT \\left(x - 0.46\\right) + RAZ \\left(x - 0.125\\right) - RBZ \\left(x - 0.375\\right)\\right)^{2}}{2 E JE}\\, dx$"
      ],
      "text/plain": [
       "Integral((-CI*(x - 0.04) - FT*(x - 0.46) + RAZ*(x - 0.125) - RBZ*(x - 0.375))**2/(2*E*JE), (x, 0.46, 0.5))"
      ]
     },
     "metadata": {},
     "output_type": "display_data"
    }
   ],
   "source": [
    "# Defino las energías de deformación:\n",
    "U1_xz = sym.Integral((mf1_xz**2)/(2*E*JA), (x, 0, 0.04))\n",
    "U2_xz = sym.Integral((mf2_xz**2)/(2*E*JA), (x, 0.04, 0.08))\n",
    "U3_xz = sym.Integral((mf2_xz**2)/(2*E*JB), (x,0.08,0.125))\n",
    "U4_xz = sym.Integral((mf3_xz**2)/(2*E*JB), (x,0.125,0.170))\n",
    "U5_xz = sym.Integral((mf3_xz**2)/(2*E*JC), (x,0.170,0.330))\n",
    "U6_xz = sym.Integral((mf3_xz**2)/(2*E*JD), (x,0.330,0.375))\n",
    "U7_xz = sym.Integral((mf4_xz**2)/(2*E*JD), (x,0.375,0.420))\n",
    "U8_xz = sym.Integral((mf4_xz**2)/(2*E*JE), (x,0.420,0.460))\n",
    "U9_xz = sym.Integral((mf5_xz**2)/(2*E*JE), (x,0.460,0.500))\n",
    "\n",
    "# Imprimo las energías de deformación:\n",
    "display(U1_xz)\n",
    "display(U2_xz)\n",
    "display(U3_xz)\n",
    "display(U4_xz)\n",
    "display(U5_xz)\n",
    "display(U6_xz)\n",
    "display(U7_xz)\n",
    "display(U8_xz)\n",
    "display(U9_xz)"
   ]
  },
  {
   "cell_type": "code",
   "execution_count": 9,
   "id": "7f6df170",
   "metadata": {},
   "outputs": [
    {
     "name": "stdout",
     "output_type": "stream",
     "text": [
      "Derivada parcial de la energía de deformación total en XZ respecto de la fuerza imaginaria (CI):\n"
     ]
    },
    {
     "data": {
      "text/latex": [
       "$\\displaystyle \\frac{0.0141546666666667 CI}{E JE} + \\frac{0.010161 CI}{E JD} + \\frac{0.00739733333333333 CI}{E JC} + \\frac{0.000711 CI}{E JB} + \\frac{2.13333333333333 \\cdot 10^{-5} CI}{E JA} + \\frac{0.000357333333333333 FT}{E JE} - \\frac{0.0112986666666667 RAZ}{E JE} + \\frac{0.00289866666666666 RBZ}{E JE} - \\frac{0.00759825 RAZ}{E JD} + \\frac{0.000369562500000001 RBZ}{E JD} - \\frac{0.00454133333333333 RAZ}{E JC} - \\frac{0.0001164375 RAZ}{E JB}$"
      ],
      "text/plain": [
       "0.0141546666666667*CI/(E*JE) + 0.010161*CI/(E*JD) + 0.00739733333333333*CI/(E*JC) + 0.000711*CI/(E*JB) + 2.13333333333333e-5*CI/(E*JA) + 0.000357333333333333*FT/(E*JE) - 0.0112986666666667*RAZ/(E*JE) + 0.00289866666666666*RBZ/(E*JE) - 0.00759825*RAZ/(E*JD) + 0.000369562500000001*RBZ/(E*JD) - 0.00454133333333333*RAZ/(E*JC) - 0.0001164375*RAZ/(E*JB)"
      ]
     },
     "metadata": {},
     "output_type": "display_data"
    },
    {
     "name": "stdout",
     "output_type": "stream",
     "text": [
      "\n",
      "Derivada parcial de la energía de deformación total en XZ respecto de la fuerza de tiro (FT):\n"
     ]
    },
    {
     "data": {
      "text/latex": [
       "$\\displaystyle \\frac{0.000357333333333333 CI + 2.13333333333315 \\cdot 10^{-5} FT - 0.000289333333333336 RAZ + 8.93333333333336 \\cdot 10^{-5} RBZ}{E JE}$"
      ],
      "text/plain": [
       "(0.000357333333333333*CI + 2.13333333333315e-5*FT - 0.000289333333333336*RAZ + 8.93333333333336e-5*RBZ)/(E*JE)"
      ]
     },
     "metadata": {},
     "output_type": "display_data"
    }
   ],
   "source": [
    "# Resuelvo las integrales:\n",
    "U1_xz_solved = U1_xz.doit()\n",
    "U2_xz_solved = U2_xz.doit()\n",
    "U3_xz_solved = U3_xz.doit()\n",
    "U4_xz_solved = U4_xz.doit()\n",
    "U5_xz_solved = U5_xz.doit()\n",
    "U6_xz_solved = U6_xz.doit()\n",
    "U7_xz_solved = U7_xz.doit()\n",
    "U8_xz_solved = U8_xz.doit()\n",
    "U9_xz_solved = U9_xz.doit()\n",
    "\n",
    "\n",
    "# Sumo todas las energías de deformación del plano XZ:\n",
    "U_xz = U1_xz_solved + U2_xz_solved + U3_xz_solved + U4_xz_solved + U5_xz_solved + U6_xz_solved + U7_xz_solved + U8_xz_solved + U9_xz_solved\n",
    "\n",
    "# Resuelvo la derivada parcial de la energía de deformación total en XZ respecto de la fuerza imaginaria (CI):\n",
    "desplazamiento_acople_xz = sym.diff(U_xz,CI)\n",
    "\n",
    "# Resuelvo la derivada de la energía de deformación total en XZ respecto de la fuerza de tiro (FT):\n",
    "desplazamiento_piñon_xz = sym.diff(U_xz,FT)\n",
    "\n",
    "print('Derivada parcial de la energía de deformación total en XZ respecto de la fuerza imaginaria (CI):')\n",
    "display(sym.simplify(desplazamiento_acople_xz))\n",
    "\n",
    "print('\\nDerivada parcial de la energía de deformación total en XZ respecto de la fuerza de tiro (FT):')\n",
    "display(sym.simplify(desplazamiento_piñon_xz))"
   ]
  },
  {
   "cell_type": "code",
   "execution_count": 10,
   "id": "37211061",
   "metadata": {},
   "outputs": [
    {
     "name": "stdout",
     "output_type": "stream",
     "text": [
      "El desplazamiento colineal a la fuerza imaginaria para el acople en el plano horizontal es de -0.0000276993076481513m.\n",
      "El desplazamiento colineal a la fuerza de tiro del piñón en el plano horizontal es de 5.94398912330822E-7m.\n"
     ]
    }
   ],
   "source": [
    "# Evalúo el desplazamiento en el acople (plano XZ):\n",
    "desplazamiento_acople_xz_evaluado = desplazamiento_acople_xz.subs([(E, 210000000000), (RAZ, 1544.91), (RBZ, 6088.76), (FT, 4543.85), (JA, ja), (JB, jb), (JC, jc), (JD, jd), (JE, je), (CI, 0)])\n",
    "print(f'El desplazamiento colineal a la fuerza imaginaria para el acople en el plano horizontal es de {desplazamiento_acople_xz_evaluado}m.')\n",
    "\n",
    "# Evalúo el desplazamiento en el piñón (plano XZ):\n",
    "desplazamiento_piñon_xz_evaluado = desplazamiento_piñon_xz.subs([(E, 210000000000), (RAZ, 1544.91), (RBZ, 6088.76), (FT, 4543.85), (JA, ja), (JB, jb), (JC, jc), (JD, jd), (JE, je), (CI, 0)])\n",
    "print(f'El desplazamiento colineal a la fuerza de tiro del piñón en el plano horizontal es de {desplazamiento_piñon_xz_evaluado}m.')"
   ]
  },
  {
   "cell_type": "markdown",
   "id": "85db51bf",
   "metadata": {},
   "source": [
    "<h3>Suma vectorial de las deformaciones obtenidas:</h3>"
   ]
  },
  {
   "cell_type": "code",
   "execution_count": 11,
   "id": "279c6249",
   "metadata": {},
   "outputs": [
    {
     "name": "stdout",
     "output_type": "stream",
     "text": [
      "El desplazamiento del acople es de 0.0000277618454813381m.\n",
      "El desplazamiento del piñón es de 5.94398912331577E-7m.\n"
     ]
    }
   ],
   "source": [
    "# Cálculo de la composición para los desplazamientos colineales a las fuerzas provocadas por el acople:\n",
    "desplazamiento_acople_evaluado = sym.sqrt((desplazamiento_acople_xy_evaluado)**2 + (desplazamiento_acople_xz_evaluado)**2)\n",
    "\n",
    "# Cálculo de la composición para los desplazamientos colineales a las fuerzas provocadas por el piñón:\n",
    "desplazamiento_piñon_evaluado = sym.sqrt((desplazamiento_piñon_xy_evaluado)**2 + (desplazamiento_piñon_xz_evaluado)**2)\n",
    "\n",
    "# Muestro los resultados:\n",
    "print(f'El desplazamiento del acople es de {desplazamiento_acople_evaluado}m.')\n",
    "print(f'El desplazamiento del piñón es de {desplazamiento_piñon_evaluado}m.')"
   ]
  }
 ],
 "metadata": {
  "kernelspec": {
   "display_name": "Python 3 (ipykernel)",
   "language": "python",
   "name": "python3"
  },
  "language_info": {
   "codemirror_mode": {
    "name": "ipython",
    "version": 3
   },
   "file_extension": ".py",
   "mimetype": "text/x-python",
   "name": "python",
   "nbconvert_exporter": "python",
   "pygments_lexer": "ipython3",
   "version": "3.9.13"
  }
 },
 "nbformat": 4,
 "nbformat_minor": 5
}

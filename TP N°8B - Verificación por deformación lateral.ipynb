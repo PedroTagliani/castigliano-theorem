{
 "cells": [
  {
   "cell_type": "markdown",
   "id": "dffa4958",
   "metadata": {},
   "source": [
    "<h1 align='center'><u>TP N°8 - Verificación por deformación lateral</u></h1>"
   ]
  },
  {
   "cell_type": "markdown",
   "id": "7469a041",
   "metadata": {},
   "source": [
    "<br><p><b>Materia:</b> Diseño de componentes de máquinas.</p>\n",
    "<p><b>Estudiante:</b> Pedro Tagliani.</p>\n"
   ]
  },
  {
   "cell_type": "markdown",
   "id": "24b453f3",
   "metadata": {},
   "source": [
    "<h3>Librerías a utilizar:</h3>"
   ]
  },
  {
   "cell_type": "code",
   "execution_count": 1,
   "id": "7471dad8",
   "metadata": {},
   "outputs": [],
   "source": [
    "import numpy as np\n",
    "import matplotlib.pyplot as plt\n",
    "import sympy as sym\n",
    "from IPython.display import display"
   ]
  },
  {
   "cell_type": "markdown",
   "id": "3c3a6418",
   "metadata": {},
   "source": [
    "<h3>Análisis para el tramo vertical (XY):</h3>"
   ]
  },
  {
   "cell_type": "code",
   "execution_count": 2,
   "id": "c9eb75c1",
   "metadata": {},
   "outputs": [
    {
     "name": "stdout",
     "output_type": "stream",
     "text": [
      "Momento flector 1: mf1 = 0\n",
      "Momento flector 2: mf2 = -PA*(x - 0.04)\n",
      "Momento flector 3: mf3 = -PA*(x - 0.04) + RAY*(x - 0.125)\n",
      "Momento flector 4: mf4 = -PA*(x - 0.04) + RAY*(x - 0.125) + RBY*(x - 0.375)\n",
      "Momento flector 5: mf5 = -PA*(x - 0.04) - PP*(x - 0.46) + RAY*(x - 0.125) + RBY*(x - 0.375)\n"
     ]
    }
   ],
   "source": [
    "# Defino las variables simbólicas:\n",
    "x, E, JA, JB, JC, JD, JE, PA, PP, RAY, RBY = sym.symbols('x, E, JA, JB, JC, JD, JE, PA, PP, RAY, RBY')\n",
    "\n",
    "# Defino los momentos flectores:\n",
    "mf1_xy = 0\n",
    "mf2_xy = -PA*(x - 0.04)\n",
    "mf3_xy = -PA*(x - 0.04) + RAY*(x - 0.125)\n",
    "mf4_xy = -PA*(x - 0.04) + RAY*(x - 0.125) + RBY*(x - 0.375)\n",
    "mf5_xy = -PA*(x - 0.04) + RAY*(x - 0.125) + RBY*(x - 0.375) - PP*(x-0.460)\n",
    "\n",
    "# Imprimo los momentos flectores:\n",
    "print('Momento flector 1: mf1 =',mf1_xy)\n",
    "print('Momento flector 2: mf2 =',mf2_xy)\n",
    "print('Momento flector 3: mf3 =',mf3_xy)\n",
    "print('Momento flector 4: mf4 =',mf4_xy)\n",
    "print('Momento flector 5: mf5 =',mf5_xy)"
   ]
  },
  {
   "cell_type": "code",
   "execution_count": 3,
   "id": "a3abdc02",
   "metadata": {},
   "outputs": [
    {
     "data": {
      "text/latex": [
       "$\\displaystyle \\int\\limits_{0}^{0.04} 0\\, dx$"
      ],
      "text/plain": [
       "Integral(0, (x, 0, 0.04))"
      ]
     },
     "metadata": {},
     "output_type": "display_data"
    },
    {
     "data": {
      "text/latex": [
       "$\\displaystyle \\int\\limits_{0.04}^{0.08} \\frac{PA^{2} \\left(x - 0.04\\right)^{2}}{2 E JA}\\, dx$"
      ],
      "text/plain": [
       "Integral(PA**2*(x - 0.04)**2/(2*E*JA), (x, 0.04, 0.08))"
      ]
     },
     "metadata": {},
     "output_type": "display_data"
    },
    {
     "data": {
      "text/latex": [
       "$\\displaystyle \\int\\limits_{0.08}^{0.125} \\frac{PA^{2} \\left(x - 0.04\\right)^{2}}{2 E JB}\\, dx$"
      ],
      "text/plain": [
       "Integral(PA**2*(x - 0.04)**2/(2*E*JB), (x, 0.08, 0.125))"
      ]
     },
     "metadata": {},
     "output_type": "display_data"
    },
    {
     "data": {
      "text/latex": [
       "$\\displaystyle \\int\\limits_{0.125}^{0.17} \\frac{\\left(- PA \\left(x - 0.04\\right) + RAY \\left(x - 0.125\\right)\\right)^{2}}{2 E JB}\\, dx$"
      ],
      "text/plain": [
       "Integral((-PA*(x - 0.04) + RAY*(x - 0.125))**2/(2*E*JB), (x, 0.125, 0.17))"
      ]
     },
     "metadata": {},
     "output_type": "display_data"
    },
    {
     "data": {
      "text/latex": [
       "$\\displaystyle \\int\\limits_{0.17}^{0.33} \\frac{\\left(- PA \\left(x - 0.04\\right) + RAY \\left(x - 0.125\\right)\\right)^{2}}{2 E JC}\\, dx$"
      ],
      "text/plain": [
       "Integral((-PA*(x - 0.04) + RAY*(x - 0.125))**2/(2*E*JC), (x, 0.17, 0.33))"
      ]
     },
     "metadata": {},
     "output_type": "display_data"
    },
    {
     "data": {
      "text/latex": [
       "$\\displaystyle \\int\\limits_{0.33}^{0.375} \\frac{\\left(- PA \\left(x - 0.04\\right) + RAY \\left(x - 0.125\\right)\\right)^{2}}{2 E JD}\\, dx$"
      ],
      "text/plain": [
       "Integral((-PA*(x - 0.04) + RAY*(x - 0.125))**2/(2*E*JD), (x, 0.33, 0.375))"
      ]
     },
     "metadata": {},
     "output_type": "display_data"
    },
    {
     "data": {
      "text/latex": [
       "$\\displaystyle \\int\\limits_{0.375}^{0.42} \\frac{\\left(- PA \\left(x - 0.04\\right) + RAY \\left(x - 0.125\\right) + RBY \\left(x - 0.375\\right)\\right)^{2}}{2 E JD}\\, dx$"
      ],
      "text/plain": [
       "Integral((-PA*(x - 0.04) + RAY*(x - 0.125) + RBY*(x - 0.375))**2/(2*E*JD), (x, 0.375, 0.42))"
      ]
     },
     "metadata": {},
     "output_type": "display_data"
    },
    {
     "data": {
      "text/latex": [
       "$\\displaystyle \\int\\limits_{0.42}^{0.46} \\frac{\\left(- PA \\left(x - 0.04\\right) + RAY \\left(x - 0.125\\right) + RBY \\left(x - 0.375\\right)\\right)^{2}}{2 E JE}\\, dx$"
      ],
      "text/plain": [
       "Integral((-PA*(x - 0.04) + RAY*(x - 0.125) + RBY*(x - 0.375))**2/(2*E*JE), (x, 0.42, 0.46))"
      ]
     },
     "metadata": {},
     "output_type": "display_data"
    },
    {
     "data": {
      "text/latex": [
       "$\\displaystyle \\int\\limits_{0.46}^{0.5} \\frac{\\left(- PA \\left(x - 0.04\\right) - PP \\left(x - 0.46\\right) + RAY \\left(x - 0.125\\right) + RBY \\left(x - 0.375\\right)\\right)^{2}}{2 E JD}\\, dx$"
      ],
      "text/plain": [
       "Integral((-PA*(x - 0.04) - PP*(x - 0.46) + RAY*(x - 0.125) + RBY*(x - 0.375))**2/(2*E*JD), (x, 0.46, 0.5))"
      ]
     },
     "metadata": {},
     "output_type": "display_data"
    }
   ],
   "source": [
    "# Defino las energías de deformación:\n",
    "U1_xy = sym.Integral((mf1_xy**2)/(2*E*JA), (x, 0, 0.04))\n",
    "U2_xy = sym.Integral((mf2_xy**2)/(2*E*JA), (x,0.04,0.08))\n",
    "U3_xy = sym.Integral((mf2_xy**2)/(2*E*JB), (x,0.08,0.125))\n",
    "U4_xy = sym.Integral((mf3_xy**2)/(2*E*JB), (x,0.125,0.170))\n",
    "U5_xy = sym.Integral((mf3_xy**2)/(2*E*JC), (x,0.170,0.330))\n",
    "U6_xy = sym.Integral((mf3_xy**2)/(2*E*JD), (x,0.330,0.375))\n",
    "U7_xy = sym.Integral((mf4_xy**2)/(2*E*JD), (x,0.375,0.420))\n",
    "U8_xy = sym.Integral((mf4_xy**2)/(2*E*JE), (x,0.420,0.460))\n",
    "U9_xy = sym.Integral((mf5_xy**2)/(2*E*JD), (x,0.460,0.500))\n",
    "\n",
    "# Imprimo las energías de deformación:\n",
    "display(U1_xy)\n",
    "display(U2_xy)\n",
    "display(U3_xy)\n",
    "display(U4_xy)\n",
    "display(U5_xy)\n",
    "display(U6_xy)\n",
    "display(U7_xy)\n",
    "display(U8_xy)\n",
    "display(U9_xy)"
   ]
  },
  {
   "cell_type": "code",
   "execution_count": 5,
   "id": "5ff5e4b7",
   "metadata": {},
   "outputs": [
    {
     "name": "stdout",
     "output_type": "stream",
     "text": [
      "El desplazamiento colineal al peso del acople en el plano vertical es de 0.00000186236934816158m.\n",
      "El desplazamiento colineal al peso del piñón en el plano vertical es de -9.47350521683797E-13m.\n"
     ]
    }
   ],
   "source": [
    "# Resuelvo las integrales:\n",
    "U1_xy_solved = U1_xy.doit()\n",
    "U2_xy_solved = U2_xy.doit()\n",
    "U3_xy_solved = U3_xy.doit()\n",
    "U4_xy_solved = U4_xy.doit()\n",
    "U5_xy_solved = U5_xy.doit()\n",
    "U6_xy_solved = U6_xy.doit()\n",
    "U7_xy_solved = U7_xy.doit()\n",
    "U8_xy_solved = U8_xy.doit()\n",
    "U9_xy_solved = U9_xy.doit()\n",
    "\n",
    "# Sumo todas las energías de deformación del plano xy:\n",
    "U_xy = U1_xy_solved + U2_xy_solved + U3_xy_solved + U4_xy_solved + U5_xy_solved + U6_xy_solved + U7_xy_solved + U8_xy_solved + U9_xy_solved\n",
    "\n",
    "# Hago la derivada de la energía de deformación total en xy respecto del peso del acople:\n",
    "desplazamiento_acople_xy = sym.diff(U_xy,PA)\n",
    "\n",
    "# Hago la derivada de la energía de deformación total en xy respecto del peso del piñón:\n",
    "desplazamiento_piñon_xy = sym.diff(U_xy,PP)\n",
    "\n",
    "# Evalúo el desplazamiento en el acople:\n",
    "desplazamiento_acople_xy_evaluado = desplazamiento_acople_xy.subs([(E, 210000000000), (PA, 127.53), (RAY, 113.15), (RBY, 184.21), (PP, 169.83), (JA, 1.55316e-6), (JB, 2.01062e-6), (JC, 3.22062e-6), (JD, 2.01062e-6), (JE, 1.55316e-6)])\n",
    "print(f'El desplazamiento colineal al peso del acople en el plano vertical es de {desplazamiento_acople_xy_evaluado}m.')\n",
    "\n",
    "# Evalúo el desplazamiento en el piñón:\n",
    "desplazamiento_piñon_xy_evaluado = desplazamiento_piñon_xy.subs([(E, 210000000000), (PA, 127.53), (RAY, 113.15), (RBY, 184.21), (PP, 169.83), (JA, 1.55316e-6), (JB, 2.01062e-6), (JC, 3.22062e-6), (JD, 2.01062e-6), (JE, 1.55316e-6)])\n",
    "print(f'El desplazamiento colineal al peso del piñón en el plano vertical es de {desplazamiento_piñon_xy_evaluado}m.')"
   ]
  },
  {
   "cell_type": "markdown",
   "id": "d8fc60cb",
   "metadata": {},
   "source": [
    "<h3>Análisis para el tramo horizontal (XZ):</h3>"
   ]
  },
  {
   "cell_type": "code",
   "execution_count": 6,
   "id": "7be2bb2a",
   "metadata": {},
   "outputs": [
    {
     "name": "stdout",
     "output_type": "stream",
     "text": [
      "Momento flector 1: mf1 = 0\n",
      "Momento flector 2: mf2 = RAZ*(x - 0.125)\n",
      "Momento flector 3: mf3 = RAZ*(x - 0.125) - RBZ*(x - 0.375)\n",
      "Momento flector 4: mf4 = -FT*(x - 0.46) + RAZ*(x - 0.125) - RBZ*(x - 0.375)\n"
     ]
    }
   ],
   "source": [
    "FT, RAZ, RBZ = sym.symbols('FT, RAZ, RBZ')\n",
    "\n",
    "# Defino los momentos flectores:\n",
    "mf1_xz = 0\n",
    "mf2_xz = RAZ*(x - 0.125)\n",
    "mf3_xz = RAZ*(x - 0.125) - RBZ*(x - 0.375)\n",
    "mf4_xz = RAZ*(x - 0.125) - RBZ*(x - 0.375) - FT*(x-0.460)\n",
    "\n",
    "# Imprimo los momentos flectores:\n",
    "print('Momento flector 1: mf1 =',mf1_xz)\n",
    "print('Momento flector 2: mf2 =',mf2_xz)\n",
    "print('Momento flector 3: mf3 =',mf3_xz)\n",
    "print('Momento flector 4: mf4 =',mf4_xz)"
   ]
  },
  {
   "cell_type": "code",
   "execution_count": 7,
   "id": "c9bc75a3",
   "metadata": {},
   "outputs": [
    {
     "data": {
      "text/latex": [
       "$\\displaystyle \\int\\limits_{0}^{0.08} 0\\, dx$"
      ],
      "text/plain": [
       "Integral(0, (x, 0, 0.08))"
      ]
     },
     "metadata": {},
     "output_type": "display_data"
    },
    {
     "data": {
      "text/latex": [
       "$\\displaystyle \\int\\limits_{0.08}^{0.125} 0\\, dx$"
      ],
      "text/plain": [
       "Integral(0, (x, 0.08, 0.125))"
      ]
     },
     "metadata": {},
     "output_type": "display_data"
    },
    {
     "data": {
      "text/latex": [
       "$\\displaystyle \\int\\limits_{0.125}^{0.17} \\frac{RAZ^{2} \\left(x - 0.125\\right)^{2}}{2 E JB}\\, dx$"
      ],
      "text/plain": [
       "Integral(RAZ**2*(x - 0.125)**2/(2*E*JB), (x, 0.125, 0.17))"
      ]
     },
     "metadata": {},
     "output_type": "display_data"
    },
    {
     "data": {
      "text/latex": [
       "$\\displaystyle \\int\\limits_{0.17}^{0.33} \\frac{RAZ^{2} \\left(x - 0.125\\right)^{2}}{2 E JC}\\, dx$"
      ],
      "text/plain": [
       "Integral(RAZ**2*(x - 0.125)**2/(2*E*JC), (x, 0.17, 0.33))"
      ]
     },
     "metadata": {},
     "output_type": "display_data"
    },
    {
     "data": {
      "text/latex": [
       "$\\displaystyle \\int\\limits_{0.33}^{0.375} \\frac{RAZ^{2} \\left(x - 0.125\\right)^{2}}{2 E JD}\\, dx$"
      ],
      "text/plain": [
       "Integral(RAZ**2*(x - 0.125)**2/(2*E*JD), (x, 0.33, 0.375))"
      ]
     },
     "metadata": {},
     "output_type": "display_data"
    },
    {
     "data": {
      "text/latex": [
       "$\\displaystyle \\int\\limits_{0.375}^{0.42} \\frac{\\left(RAZ \\left(x - 0.125\\right) - RBZ \\left(x - 0.375\\right)\\right)^{2}}{2 E JD}\\, dx$"
      ],
      "text/plain": [
       "Integral((RAZ*(x - 0.125) - RBZ*(x - 0.375))**2/(2*E*JD), (x, 0.375, 0.42))"
      ]
     },
     "metadata": {},
     "output_type": "display_data"
    },
    {
     "data": {
      "text/latex": [
       "$\\displaystyle \\int\\limits_{0.42}^{0.46} \\frac{\\left(RAZ \\left(x - 0.125\\right) - RBZ \\left(x - 0.375\\right)\\right)^{2}}{2 E JE}\\, dx$"
      ],
      "text/plain": [
       "Integral((RAZ*(x - 0.125) - RBZ*(x - 0.375))**2/(2*E*JE), (x, 0.42, 0.46))"
      ]
     },
     "metadata": {},
     "output_type": "display_data"
    },
    {
     "data": {
      "text/latex": [
       "$\\displaystyle \\int\\limits_{0.46}^{0.5} \\frac{\\left(- FT \\left(x - 0.46\\right) + RAZ \\left(x - 0.125\\right) - RBZ \\left(x - 0.375\\right)\\right)^{2}}{2 E JE}\\, dx$"
      ],
      "text/plain": [
       "Integral((-FT*(x - 0.46) + RAZ*(x - 0.125) - RBZ*(x - 0.375))**2/(2*E*JE), (x, 0.46, 0.5))"
      ]
     },
     "metadata": {},
     "output_type": "display_data"
    }
   ],
   "source": [
    "# Defino las energías de deformación:\n",
    "U1_xz = sym.Integral((mf1_xz**2)/(2*E*JA), (x, 0, 0.08))\n",
    "U2_xz = sym.Integral((mf1_xz**2)/(2*E*JB), (x,0.08,0.125))\n",
    "U3_xz = sym.Integral((mf2_xz**2)/(2*E*JB), (x,0.125,0.170))\n",
    "U4_xz = sym.Integral((mf2_xz**2)/(2*E*JC), (x,0.170,0.330))\n",
    "U5_xz = sym.Integral((mf2_xz**2)/(2*E*JD), (x,0.330,0.375))\n",
    "U6_xz = sym.Integral((mf3_xz**2)/(2*E*JD), (x,0.375,0.420))\n",
    "U7_xz = sym.Integral((mf3_xz**2)/(2*E*JE), (x,0.420,0.460))\n",
    "U8_xz = sym.Integral((mf4_xz**2)/(2*E*JE), (x,0.460,0.500))\n",
    "\n",
    "# Imprimo las energías de deformación:\n",
    "display(U1_xz)\n",
    "display(U2_xz)\n",
    "display(U3_xz)\n",
    "display(U4_xz)\n",
    "display(U5_xz)\n",
    "display(U6_xz)\n",
    "display(U7_xz)\n",
    "display(U8_xz)"
   ]
  },
  {
   "cell_type": "code",
   "execution_count": 8,
   "id": "7f6df170",
   "metadata": {},
   "outputs": [
    {
     "name": "stdout",
     "output_type": "stream",
     "text": [
      "El desplazamiento colineal a la fuerza de tiro del piñón en el plano horizontal es de 5.94397208435639E-7m.\n"
     ]
    }
   ],
   "source": [
    "# Resuelvo las integrales:\n",
    "U1_xz_solved = U1_xz.doit()\n",
    "U2_xz_solved = U2_xz.doit()\n",
    "U3_xz_solved = U3_xz.doit()\n",
    "U4_xz_solved = U4_xz.doit()\n",
    "U5_xz_solved = U5_xz.doit()\n",
    "U6_xz_solved = U6_xz.doit()\n",
    "U7_xz_solved = U7_xz.doit()\n",
    "U8_xz_solved = U8_xz.doit()\n",
    "\n",
    "# Sumo todas las energías de deformación del plano xy:\n",
    "U_xz = U1_xz_solved + U2_xz_solved + U3_xz_solved + U4_xz_solved + U5_xz_solved + U6_xz_solved + U7_xz_solved + U8_xz_solved\n",
    "\n",
    "# Hago la derivada de la energía de deformación total en xy respecto de la fuerza de tiro:\n",
    "desplazamiento_piñon_xz = sym.diff(U_xz,FT)\n",
    "\n",
    "# Evalúo el desplazamiento en el piñón:\n",
    "desplazamiento_piñon_xz_evaluado = desplazamiento_piñon_xz.subs([(E, 210000000000), (RAZ, 1544.91), (RBZ, 6088.76), (FT, 4543.85), (JA, 1.55316e-6), (JB, 2.01062e-6), (JC, 3.22062e-6), (JD, 2.01062e-6), (JE, 1.55316e-6)])\n",
    "print(f'El desplazamiento colineal a la fuerza de tiro del piñón en el plano horizontal es de {desplazamiento_piñon_xz_evaluado}m.')"
   ]
  }
 ],
 "metadata": {
  "kernelspec": {
   "display_name": "Python 3 (ipykernel)",
   "language": "python",
   "name": "python3"
  },
  "language_info": {
   "codemirror_mode": {
    "name": "ipython",
    "version": 3
   },
   "file_extension": ".py",
   "mimetype": "text/x-python",
   "name": "python",
   "nbconvert_exporter": "python",
   "pygments_lexer": "ipython3",
   "version": "3.9.13"
  }
 },
 "nbformat": 4,
 "nbformat_minor": 5
}

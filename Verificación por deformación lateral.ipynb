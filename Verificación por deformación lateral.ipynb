{
 "cells": [
  {
   "cell_type": "markdown",
   "id": "dffa4958",
   "metadata": {},
   "source": [
    "<h1 align='center'><u>Verificación por deformación lateral - Teorema de Castigliano</u></h1>"
   ]
  },
  {
   "cell_type": "markdown",
   "id": "4187cc4c",
   "metadata": {},
   "source": [
    "<p style=\"text-align: justify;\">La verificación por deformación lateral se realizará utilizando el teorema de Castigliano, el cual expresa que cuando actúan fuerzas sobre sistemas elásticos sujetos a desplazamientos pequeños, el desplazamiento correspondiente a cualquier fuerza, colineal con la fuerza, es igual a la derivada parcial de la energía de deformación total con respecto a esa fuerza.</p>\n",
    "<br>\n",
    "$$\\delta_i = \\frac{dU}{dF_i} \\quad \\text{donde} \\quad U = \\int_0^L \\frac{M^2 (x)}{2 \\cdot E \\cdot J} \\, dx$$\n",
    "\n"
   ]
  },
  {
   "cell_type": "markdown",
   "id": "24b453f3",
   "metadata": {},
   "source": [
    "<h3>Librerías a utilizar:</h3>"
   ]
  },
  {
   "cell_type": "code",
   "execution_count": 1,
   "id": "7471dad8",
   "metadata": {},
   "outputs": [],
   "source": [
    "import numpy as np\n",
    "import matplotlib.pyplot as plt\n",
    "import sympy as sym\n",
    "from IPython.display import display"
   ]
  },
  {
   "cell_type": "markdown",
   "id": "36aa6648",
   "metadata": {},
   "source": [
    "<h3>Medidas generales del árbol de transmisión a analizar:</h3>"
   ]
  },
  {
   "cell_type": "markdown",
   "id": "5966cb02",
   "metadata": {},
   "source": [
    "<a href=\"https://imgur.com/4HdVmRK\"><img src=\"https://i.imgur.com/4HdVmRK.png\" title=\"source: imgur.com\" /></a>"
   ]
  },
  {
   "cell_type": "markdown",
   "id": "c36312f2",
   "metadata": {},
   "source": [
    "<h3>División por tramos del árbol de transmisión:</h3>"
   ]
  },
  {
   "cell_type": "markdown",
   "id": "8c8f23ce",
   "metadata": {},
   "source": [
    "<a href=\"https://imgur.com/be2SIRC\"><img src=\"https://i.imgur.com/be2SIRC.png\" title=\"source: imgur.com\" /></a>"
   ]
  },
  {
   "cell_type": "markdown",
   "id": "19ccfb13",
   "metadata": {},
   "source": [
    "<h3>Cálculo del momento de inercia para cada uno de los tramos del árbol de transmisión:</h3>"
   ]
  },
  {
   "cell_type": "code",
   "execution_count": 2,
   "id": "759aad84",
   "metadata": {},
   "outputs": [],
   "source": [
    "# Diámetro de los tramos:\n",
    "da = 60/1000\n",
    "db = 75/1000\n",
    "dc = 85/1000\n",
    "dd = 75/1000\n",
    "de = 58/1000\n",
    "\n",
    "# Momento de inercia para cada uno de los tramos:\n",
    "ja = (np.pi*(da/2)**4)/4\n",
    "jb = (np.pi*(db/2)**4)/4\n",
    "jc = (np.pi*(dc/2)**4)/4\n",
    "jd = (np.pi*(dd/2)**4)/4\n",
    "je = (np.pi*(de/2)**4)/4"
   ]
  },
  {
   "cell_type": "markdown",
   "id": "3c3a6418",
   "metadata": {},
   "source": [
    "<h3>Análisis para el plano vertical (XY):</h3>"
   ]
  },
  {
   "cell_type": "markdown",
   "id": "3e3bd50a",
   "metadata": {},
   "source": [
    "<a href=\"https://imgur.com/aHz6Cwx\"><img src=\"https://i.imgur.com/aHz6Cwx.png\" title=\"source: imgur.com\" /></a>"
   ]
  },
  {
   "cell_type": "code",
   "execution_count": 3,
   "id": "c9eb75c1",
   "metadata": {},
   "outputs": [
    {
     "name": "stdout",
     "output_type": "stream",
     "text": [
      "Momento flector 1: mf1 = 0\n",
      "Momento flector 2: mf2 = -PA*(x - 0.04)\n",
      "Momento flector 3: mf3 = -PA*(x - 0.04) + RAY*(x - 0.13)\n",
      "Momento flector 4: mf4 = -PA*(x - 0.04) + RAY*(x - 0.13) + RBY*(x - 0.41)\n",
      "Momento flector 5: mf5 = -PA*(x - 0.04) - PP*(x - 0.4825) + RAY*(x - 0.13) + RBY*(x - 0.41)\n"
     ]
    }
   ],
   "source": [
    "# Defino las variables simbólicas:\n",
    "x, E, JA, JB, JC, JD, JE, PA, PP, RAY, RBY = sym.symbols('x, E, JA, JB, JC, JD, JE, PA, PP, RAY, RBY')\n",
    "\n",
    "# Defino los momentos flectores:\n",
    "mf1_xy = 0\n",
    "mf2_xy = -PA*(x - 0.04)\n",
    "mf3_xy = -PA*(x - 0.04) + RAY*(x - 0.13)\n",
    "mf4_xy = -PA*(x - 0.04) + RAY*(x - 0.13) + RBY*(x - 0.41)\n",
    "mf5_xy = -PA*(x - 0.04) + RAY*(x - 0.13) + RBY*(x - 0.41) - PP*(x-0.4825)\n",
    "\n",
    "# Imprimo los momentos flectores:\n",
    "print('Momento flector 1: mf1 =',mf1_xy)\n",
    "print('Momento flector 2: mf2 =',mf2_xy)\n",
    "print('Momento flector 3: mf3 =',mf3_xy)\n",
    "print('Momento flector 4: mf4 =',mf4_xy)\n",
    "print('Momento flector 5: mf5 =',mf5_xy)"
   ]
  },
  {
   "cell_type": "code",
   "execution_count": 4,
   "id": "a3abdc02",
   "metadata": {},
   "outputs": [
    {
     "data": {
      "text/latex": [
       "$\\displaystyle \\int\\limits_{0}^{0.04} 0\\, dx$"
      ],
      "text/plain": [
       "Integral(0, (x, 0, 0.04))"
      ]
     },
     "metadata": {},
     "output_type": "display_data"
    },
    {
     "data": {
      "text/latex": [
       "$\\displaystyle \\int\\limits_{0.04}^{0.08} \\frac{PA^{2} \\left(x - 0.04\\right)^{2}}{2 E JA}\\, dx$"
      ],
      "text/plain": [
       "Integral(PA**2*(x - 0.04)**2/(2*E*JA), (x, 0.04, 0.08))"
      ]
     },
     "metadata": {},
     "output_type": "display_data"
    },
    {
     "data": {
      "text/latex": [
       "$\\displaystyle \\int\\limits_{0.08}^{0.13} \\frac{PA^{2} \\left(x - 0.04\\right)^{2}}{2 E JB}\\, dx$"
      ],
      "text/plain": [
       "Integral(PA**2*(x - 0.04)**2/(2*E*JB), (x, 0.08, 0.13))"
      ]
     },
     "metadata": {},
     "output_type": "display_data"
    },
    {
     "data": {
      "text/latex": [
       "$\\displaystyle \\int\\limits_{0.13}^{0.18} \\frac{\\left(- PA \\left(x - 0.04\\right) + RAY \\left(x - 0.13\\right)\\right)^{2}}{2 E JB}\\, dx$"
      ],
      "text/plain": [
       "Integral((-PA*(x - 0.04) + RAY*(x - 0.13))**2/(2*E*JB), (x, 0.13, 0.18))"
      ]
     },
     "metadata": {},
     "output_type": "display_data"
    },
    {
     "data": {
      "text/latex": [
       "$\\displaystyle \\int\\limits_{0.18}^{0.36} \\frac{\\left(- PA \\left(x - 0.04\\right) + RAY \\left(x - 0.13\\right)\\right)^{2}}{2 E JC}\\, dx$"
      ],
      "text/plain": [
       "Integral((-PA*(x - 0.04) + RAY*(x - 0.13))**2/(2*E*JC), (x, 0.18, 0.36))"
      ]
     },
     "metadata": {},
     "output_type": "display_data"
    },
    {
     "data": {
      "text/latex": [
       "$\\displaystyle \\int\\limits_{0.36}^{0.41} \\frac{\\left(- PA \\left(x - 0.04\\right) + RAY \\left(x - 0.13\\right)\\right)^{2}}{2 E JD}\\, dx$"
      ],
      "text/plain": [
       "Integral((-PA*(x - 0.04) + RAY*(x - 0.13))**2/(2*E*JD), (x, 0.36, 0.41))"
      ]
     },
     "metadata": {},
     "output_type": "display_data"
    },
    {
     "data": {
      "text/latex": [
       "$\\displaystyle \\int\\limits_{0.41}^{0.46} \\frac{\\left(- PA \\left(x - 0.04\\right) + RAY \\left(x - 0.13\\right) + RBY \\left(x - 0.41\\right)\\right)^{2}}{2 E JD}\\, dx$"
      ],
      "text/plain": [
       "Integral((-PA*(x - 0.04) + RAY*(x - 0.13) + RBY*(x - 0.41))**2/(2*E*JD), (x, 0.41, 0.46))"
      ]
     },
     "metadata": {},
     "output_type": "display_data"
    },
    {
     "data": {
      "text/latex": [
       "$\\displaystyle \\int\\limits_{0.46}^{0.4825} \\frac{\\left(- PA \\left(x - 0.04\\right) + RAY \\left(x - 0.13\\right) + RBY \\left(x - 0.41\\right)\\right)^{2}}{2 E JE}\\, dx$"
      ],
      "text/plain": [
       "Integral((-PA*(x - 0.04) + RAY*(x - 0.13) + RBY*(x - 0.41))**2/(2*E*JE), (x, 0.46, 0.4825))"
      ]
     },
     "metadata": {},
     "output_type": "display_data"
    },
    {
     "data": {
      "text/latex": [
       "$\\displaystyle \\int\\limits_{0.4825}^{0.505} \\frac{\\left(- PA \\left(x - 0.04\\right) - PP \\left(x - 0.4825\\right) + RAY \\left(x - 0.13\\right) + RBY \\left(x - 0.41\\right)\\right)^{2}}{2 E JD}\\, dx$"
      ],
      "text/plain": [
       "Integral((-PA*(x - 0.04) - PP*(x - 0.4825) + RAY*(x - 0.13) + RBY*(x - 0.41))**2/(2*E*JD), (x, 0.4825, 0.505))"
      ]
     },
     "metadata": {},
     "output_type": "display_data"
    }
   ],
   "source": [
    "# Defino las energías de deformación:\n",
    "U1_xy = sym.Integral((mf1_xy**2)/(2*E*JA), (x, 0, 0.04))\n",
    "U2_xy = sym.Integral((mf2_xy**2)/(2*E*JA), (x,0.04,0.08))\n",
    "U3_xy = sym.Integral((mf2_xy**2)/(2*E*JB), (x,0.08,0.13))\n",
    "U4_xy = sym.Integral((mf3_xy**2)/(2*E*JB), (x,0.13,0.18))\n",
    "U5_xy = sym.Integral((mf3_xy**2)/(2*E*JC), (x,0.18,0.36))\n",
    "U6_xy = sym.Integral((mf3_xy**2)/(2*E*JD), (x,0.36,0.41))\n",
    "U7_xy = sym.Integral((mf4_xy**2)/(2*E*JD), (x,0.41,0.46))\n",
    "U8_xy = sym.Integral((mf4_xy**2)/(2*E*JE), (x,0.46,0.4825))\n",
    "U9_xy = sym.Integral((mf5_xy**2)/(2*E*JD), (x,0.4825,0.505))\n",
    "\n",
    "# Imprimo las energías de deformación:\n",
    "display(U1_xy)\n",
    "display(U2_xy)\n",
    "display(U3_xy)\n",
    "display(U4_xy)\n",
    "display(U5_xy)\n",
    "display(U6_xy)\n",
    "display(U7_xy)\n",
    "display(U8_xy)\n",
    "display(U9_xy)"
   ]
  },
  {
   "cell_type": "code",
   "execution_count": 5,
   "id": "5ff5e4b7",
   "metadata": {},
   "outputs": [
    {
     "name": "stdout",
     "output_type": "stream",
     "text": [
      "Derivada parcial de la energía de deformación total en XY respecto del peso del acople (PA):\n"
     ]
    },
    {
     "data": {
      "text/latex": [
       "$\\displaystyle \\frac{0.00418542187499999 PA}{E JE} - \\frac{0.00331214062499999 RAY}{E JE} - \\frac{0.000595265624999995 RBY}{E JE} + \\frac{0.0184067864583333 PA}{E JD} + \\frac{0.000115804687500011 PP}{E JD} - \\frac{0.0141579427083333 RAY}{E JD} - \\frac{0.00136015104166668 RBY}{E JD} + \\frac{0.010008 PA}{E JC} - \\frac{0.006282 RAY}{E JC} + \\frac{0.000893333333333333 PA}{E JB} - \\frac{0.000154166666666667 RAY}{E JB} + \\frac{2.13333333333333 \\cdot 10^{-5} PA}{E JA}$"
      ],
      "text/plain": [
       "0.00418542187499999*PA/(E*JE) - 0.00331214062499999*RAY/(E*JE) - 0.000595265624999995*RBY/(E*JE) + 0.0184067864583333*PA/(E*JD) + 0.000115804687500011*PP/(E*JD) - 0.0141579427083333*RAY/(E*JD) - 0.00136015104166668*RBY/(E*JD) + 0.010008*PA/(E*JC) - 0.006282*RAY/(E*JC) + 0.000893333333333333*PA/(E*JB) - 0.000154166666666667*RAY/(E*JB) + 2.13333333333333e-5*PA/(E*JA)"
      ]
     },
     "metadata": {},
     "output_type": "display_data"
    },
    {
     "name": "stdout",
     "output_type": "stream",
     "text": [
      "\n",
      "Derivada parcial de la energía de deformación total en XY respecto del peso del piñón (PP):\n"
     ]
    },
    {
     "data": {
      "text/latex": [
       "$\\displaystyle \\frac{0.000115804687500011 PA + 3.79687500001377 \\cdot 10^{-6} PP - 9.30234375000104 \\cdot 10^{-5} RAY - 2.21484375000115 \\cdot 10^{-5} RBY}{E JD}$"
      ],
      "text/plain": [
       "(0.000115804687500011*PA + 3.79687500001377e-6*PP - 9.30234375000104e-5*RAY - 2.21484375000115e-5*RBY)/(E*JD)"
      ]
     },
     "metadata": {},
     "output_type": "display_data"
    }
   ],
   "source": [
    "# Resuelvo las integrales:\n",
    "U1_xy_solved = U1_xy.doit()\n",
    "U2_xy_solved = U2_xy.doit()\n",
    "U3_xy_solved = U3_xy.doit()\n",
    "U4_xy_solved = U4_xy.doit()\n",
    "U5_xy_solved = U5_xy.doit()\n",
    "U6_xy_solved = U6_xy.doit()\n",
    "U7_xy_solved = U7_xy.doit()\n",
    "U8_xy_solved = U8_xy.doit()\n",
    "U9_xy_solved = U9_xy.doit()\n",
    "\n",
    "# Sumo todas las energías de deformación del plano XY:\n",
    "U_xy = U1_xy_solved + U2_xy_solved + U3_xy_solved + U4_xy_solved + U5_xy_solved + U6_xy_solved + U7_xy_solved + U8_xy_solved + U9_xy_solved\n",
    "\n",
    "# Resuelvo la derivada parcial de la energía de deformación total en XY respecto del peso del acople (PA):\n",
    "desplazamiento_acople_xy = sym.diff(U_xy,PA)\n",
    "\n",
    "# Resuelvo la derivada parcial de la energía de deformación total en XY respecto del peso del piñón (PP):\n",
    "desplazamiento_piñon_xy = sym.diff(U_xy,PP)\n",
    "\n",
    "print('Derivada parcial de la energía de deformación total en XY respecto del peso del acople (PA):')\n",
    "display(sym.simplify(desplazamiento_acople_xy))\n",
    "\n",
    "print('\\nDerivada parcial de la energía de deformación total en XY respecto del peso del piñón (PP):')\n",
    "display(sym.simplify(desplazamiento_piñon_xy))"
   ]
  },
  {
   "cell_type": "code",
   "execution_count": 6,
   "id": "2f2cb147",
   "metadata": {},
   "outputs": [
    {
     "name": "stdout",
     "output_type": "stream",
     "text": [
      "El desplazamiento colineal al peso del acople en el plano vertical es de 0.00000129970316039800m.\n",
      "El desplazamiento colineal al peso del piñón en el plano vertical es de 1.97509768616383E-11m.\n"
     ]
    }
   ],
   "source": [
    "# Evalúo el desplazamiento en el acople (plano XY):\n",
    "desplazamiento_acople_xy_evaluado = desplazamiento_acople_xy.subs([(E, 210000000000), (PA, 122.13), (RAY, 146.95), (RBY, 30.58), (PP, 55.39), (JA, ja), (JB, jb), (JC, jc), (JD, jd), (JE, je)])\n",
    "print(f'El desplazamiento colineal al peso del acople en el plano vertical es de {desplazamiento_acople_xy_evaluado}m.')\n",
    "\n",
    "# Evalúo el desplazamiento en el piñón (plano XY):\n",
    "desplazamiento_piñon_xy_evaluado = desplazamiento_piñon_xy.subs([(E, 210000000000), (PA, 122.13), (RAY, 146.95), (RBY, 30.58), (PP, 55.39), (JA, ja), (JB, jb), (JC, jc), (JD, jd), (JE, je)])\n",
    "print(f'El desplazamiento colineal al peso del piñón en el plano vertical es de {desplazamiento_piñon_xy_evaluado}m.')"
   ]
  },
  {
   "cell_type": "markdown",
   "id": "d8fc60cb",
   "metadata": {},
   "source": [
    "<h3>Análisis para el plano horizontal (XZ):</h3>"
   ]
  },
  {
   "cell_type": "markdown",
   "id": "8811eb60",
   "metadata": {},
   "source": [
    "<a href=\"https://imgur.com/DPjbwOf\"><img src=\"https://i.imgur.com/DPjbwOf.png\" title=\"source: imgur.com\" /></a>"
   ]
  },
  {
   "cell_type": "code",
   "execution_count": 7,
   "id": "7be2bb2a",
   "metadata": {},
   "outputs": [
    {
     "name": "stdout",
     "output_type": "stream",
     "text": [
      "Momento flector 1: mf1 = 0\n",
      "Momento flector 2: mf2 = -CI*(x - 0.04)\n",
      "Momento flector 3: mf3 = -CI*(x - 0.04) + RAZ*(x - 0.13)\n",
      "Momento flector 4: mf4 = -CI*(x - 0.04) + RAZ*(x - 0.13) - RBZ*(x - 0.41)\n",
      "Momento flector 5: mf5 = -CI*(x - 0.04) - FT*(x - 0.4825) + RAZ*(x - 0.13) - RBZ*(x - 0.41)\n"
     ]
    }
   ],
   "source": [
    "FT, RAZ, RBZ, CI = sym.symbols('FT, RAZ, RBZ, CI')\n",
    "\n",
    "# Defino los momentos flectores:\n",
    "mf1_xz = 0\n",
    "mf2_xz = -CI*(x - 0.04)\n",
    "mf3_xz = -CI*(x - 0.04) + RAZ*(x - 0.13)\n",
    "mf4_xz = -CI*(x - 0.04) + RAZ*(x - 0.13) - RBZ*(x - 0.41)\n",
    "mf5_xz = -CI*(x - 0.04) + RAZ*(x - 0.13) - RBZ*(x - 0.41) - FT*(x-0.4825)\n",
    "\n",
    "# Imprimo los momentos flectores:\n",
    "print('Momento flector 1: mf1 =',mf1_xz)\n",
    "print('Momento flector 2: mf2 =',mf2_xz)\n",
    "print('Momento flector 3: mf3 =',mf3_xz)\n",
    "print('Momento flector 4: mf4 =',mf4_xz)\n",
    "print('Momento flector 5: mf5 =',mf5_xz)"
   ]
  },
  {
   "cell_type": "code",
   "execution_count": 8,
   "id": "c9bc75a3",
   "metadata": {},
   "outputs": [
    {
     "data": {
      "text/latex": [
       "$\\displaystyle \\int\\limits_{0}^{0.04} 0\\, dx$"
      ],
      "text/plain": [
       "Integral(0, (x, 0, 0.04))"
      ]
     },
     "metadata": {},
     "output_type": "display_data"
    },
    {
     "data": {
      "text/latex": [
       "$\\displaystyle \\int\\limits_{0.04}^{0.08} \\frac{CI^{2} \\left(x - 0.04\\right)^{2}}{2 E JA}\\, dx$"
      ],
      "text/plain": [
       "Integral(CI**2*(x - 0.04)**2/(2*E*JA), (x, 0.04, 0.08))"
      ]
     },
     "metadata": {},
     "output_type": "display_data"
    },
    {
     "data": {
      "text/latex": [
       "$\\displaystyle \\int\\limits_{0.08}^{0.13} \\frac{CI^{2} \\left(x - 0.04\\right)^{2}}{2 E JB}\\, dx$"
      ],
      "text/plain": [
       "Integral(CI**2*(x - 0.04)**2/(2*E*JB), (x, 0.08, 0.13))"
      ]
     },
     "metadata": {},
     "output_type": "display_data"
    },
    {
     "data": {
      "text/latex": [
       "$\\displaystyle \\int\\limits_{0.13}^{0.18} \\frac{\\left(- CI \\left(x - 0.04\\right) + RAZ \\left(x - 0.13\\right)\\right)^{2}}{2 E JB}\\, dx$"
      ],
      "text/plain": [
       "Integral((-CI*(x - 0.04) + RAZ*(x - 0.13))**2/(2*E*JB), (x, 0.13, 0.18))"
      ]
     },
     "metadata": {},
     "output_type": "display_data"
    },
    {
     "data": {
      "text/latex": [
       "$\\displaystyle \\int\\limits_{0.18}^{0.36} \\frac{\\left(- CI \\left(x - 0.04\\right) + RAZ \\left(x - 0.13\\right)\\right)^{2}}{2 E JC}\\, dx$"
      ],
      "text/plain": [
       "Integral((-CI*(x - 0.04) + RAZ*(x - 0.13))**2/(2*E*JC), (x, 0.18, 0.36))"
      ]
     },
     "metadata": {},
     "output_type": "display_data"
    },
    {
     "data": {
      "text/latex": [
       "$\\displaystyle \\int\\limits_{0.36}^{0.41} \\frac{\\left(- CI \\left(x - 0.04\\right) + RAZ \\left(x - 0.13\\right)\\right)^{2}}{2 E JD}\\, dx$"
      ],
      "text/plain": [
       "Integral((-CI*(x - 0.04) + RAZ*(x - 0.13))**2/(2*E*JD), (x, 0.36, 0.41))"
      ]
     },
     "metadata": {},
     "output_type": "display_data"
    },
    {
     "data": {
      "text/latex": [
       "$\\displaystyle \\int\\limits_{0.41}^{0.46} \\frac{\\left(- CI \\left(x - 0.04\\right) + RAZ \\left(x - 0.13\\right) - RBZ \\left(x - 0.41\\right)\\right)^{2}}{2 E JD}\\, dx$"
      ],
      "text/plain": [
       "Integral((-CI*(x - 0.04) + RAZ*(x - 0.13) - RBZ*(x - 0.41))**2/(2*E*JD), (x, 0.41, 0.46))"
      ]
     },
     "metadata": {},
     "output_type": "display_data"
    },
    {
     "data": {
      "text/latex": [
       "$\\displaystyle \\int\\limits_{0.46}^{0.4825} \\frac{\\left(- CI \\left(x - 0.04\\right) + RAZ \\left(x - 0.13\\right) - RBZ \\left(x - 0.41\\right)\\right)^{2}}{2 E JE}\\, dx$"
      ],
      "text/plain": [
       "Integral((-CI*(x - 0.04) + RAZ*(x - 0.13) - RBZ*(x - 0.41))**2/(2*E*JE), (x, 0.46, 0.4825))"
      ]
     },
     "metadata": {},
     "output_type": "display_data"
    },
    {
     "data": {
      "text/latex": [
       "$\\displaystyle \\int\\limits_{0.4825}^{0.505} \\frac{\\left(- CI \\left(x - 0.04\\right) - FT \\left(x - 0.4825\\right) + RAZ \\left(x - 0.13\\right) - RBZ \\left(x - 0.41\\right)\\right)^{2}}{2 E JE}\\, dx$"
      ],
      "text/plain": [
       "Integral((-CI*(x - 0.04) - FT*(x - 0.4825) + RAZ*(x - 0.13) - RBZ*(x - 0.41))**2/(2*E*JE), (x, 0.4825, 0.505))"
      ]
     },
     "metadata": {},
     "output_type": "display_data"
    }
   ],
   "source": [
    "# Defino las energías de deformación:\n",
    "U1_xz = sym.Integral((mf1_xz**2)/(2*E*JA), (x, 0, 0.04))\n",
    "U2_xz = sym.Integral((mf2_xz**2)/(2*E*JA), (x, 0.04, 0.08))\n",
    "U3_xz = sym.Integral((mf2_xz**2)/(2*E*JB), (x,0.08,0.13))\n",
    "U4_xz = sym.Integral((mf3_xz**2)/(2*E*JB), (x,0.13,0.18))\n",
    "U5_xz = sym.Integral((mf3_xz**2)/(2*E*JC), (x,0.18,0.36))\n",
    "U6_xz = sym.Integral((mf3_xz**2)/(2*E*JD), (x,0.36,0.41))\n",
    "U7_xz = sym.Integral((mf4_xz**2)/(2*E*JD), (x,0.41,0.46))\n",
    "U8_xz = sym.Integral((mf4_xz**2)/(2*E*JE), (x,0.46,0.4825))\n",
    "U9_xz = sym.Integral((mf5_xz**2)/(2*E*JE), (x,0.4825,0.505))\n",
    "\n",
    "# Imprimo las energías de deformación:\n",
    "display(U1_xz)\n",
    "display(U2_xz)\n",
    "display(U3_xz)\n",
    "display(U4_xz)\n",
    "display(U5_xz)\n",
    "display(U6_xz)\n",
    "display(U7_xz)\n",
    "display(U8_xz)\n",
    "display(U9_xz)"
   ]
  },
  {
   "cell_type": "code",
   "execution_count": 9,
   "id": "7f6df170",
   "metadata": {},
   "outputs": [
    {
     "name": "stdout",
     "output_type": "stream",
     "text": [
      "Derivada parcial de la energía de deformación total en XZ respecto de la fuerza imaginaria (CI):\n"
     ]
    },
    {
     "data": {
      "text/latex": [
       "$\\displaystyle \\frac{0.008818875 CI}{E JE} + \\frac{0.0137733333333333 CI}{E JD} + \\frac{0.010008 CI}{E JC} + \\frac{0.000893333333333333 CI}{E JB} + \\frac{2.13333333333333 \\cdot 10^{-5} CI}{E JA} + \\frac{0.000115804687500011 FT}{E JE} - \\frac{0.00702675000000001 RAZ}{E JE} + \\frac{0.00145125000000001 RBZ}{E JE} - \\frac{0.0104433333333333 RAZ}{E JD} + \\frac{0.000504166666666667 RBZ}{E JD} - \\frac{0.006282 RAZ}{E JC} - \\frac{0.000154166666666667 RAZ}{E JB}$"
      ],
      "text/plain": [
       "0.008818875*CI/(E*JE) + 0.0137733333333333*CI/(E*JD) + 0.010008*CI/(E*JC) + 0.000893333333333333*CI/(E*JB) + 2.13333333333333e-5*CI/(E*JA) + 0.000115804687500011*FT/(E*JE) - 0.00702675000000001*RAZ/(E*JE) + 0.00145125000000001*RBZ/(E*JE) - 0.0104433333333333*RAZ/(E*JD) + 0.000504166666666667*RBZ/(E*JD) - 0.006282*RAZ/(E*JC) - 0.000154166666666667*RAZ/(E*JB)"
      ]
     },
     "metadata": {},
     "output_type": "display_data"
    },
    {
     "name": "stdout",
     "output_type": "stream",
     "text": [
      "\n",
      "Derivada parcial de la energía de deformación total en XZ respecto de la fuerza de tiro (FT):\n"
     ]
    },
    {
     "data": {
      "text/latex": [
       "$\\displaystyle \\frac{0.000115804687500011 CI + 3.79687500001377 \\cdot 10^{-6} FT - 9.30234375000104 \\cdot 10^{-5} RAZ + 2.21484375000115 \\cdot 10^{-5} RBZ}{E JE}$"
      ],
      "text/plain": [
       "(0.000115804687500011*CI + 3.79687500001377e-6*FT - 9.30234375000104e-5*RAZ + 2.21484375000115e-5*RBZ)/(E*JE)"
      ]
     },
     "metadata": {},
     "output_type": "display_data"
    }
   ],
   "source": [
    "# Resuelvo las integrales:\n",
    "U1_xz_solved = U1_xz.doit()\n",
    "U2_xz_solved = U2_xz.doit()\n",
    "U3_xz_solved = U3_xz.doit()\n",
    "U4_xz_solved = U4_xz.doit()\n",
    "U5_xz_solved = U5_xz.doit()\n",
    "U6_xz_solved = U6_xz.doit()\n",
    "U7_xz_solved = U7_xz.doit()\n",
    "U8_xz_solved = U8_xz.doit()\n",
    "U9_xz_solved = U9_xz.doit()\n",
    "\n",
    "\n",
    "# Sumo todas las energías de deformación del plano XZ:\n",
    "U_xz = U1_xz_solved + U2_xz_solved + U3_xz_solved + U4_xz_solved + U5_xz_solved + U6_xz_solved + U7_xz_solved + U8_xz_solved + U9_xz_solved\n",
    "\n",
    "# Resuelvo la derivada parcial de la energía de deformación total en XZ respecto de la fuerza imaginaria (CI):\n",
    "desplazamiento_acople_xz = sym.diff(U_xz,CI)\n",
    "\n",
    "# Resuelvo la derivada de la energía de deformación total en XZ respecto de la fuerza de tiro (FT):\n",
    "desplazamiento_piñon_xz = sym.diff(U_xz,FT)\n",
    "\n",
    "print('Derivada parcial de la energía de deformación total en XZ respecto de la fuerza imaginaria (CI):')\n",
    "display(sym.simplify(desplazamiento_acople_xz))\n",
    "\n",
    "print('\\nDerivada parcial de la energía de deformación total en XZ respecto de la fuerza de tiro (FT):')\n",
    "display(sym.simplify(desplazamiento_piñon_xz))"
   ]
  },
  {
   "cell_type": "code",
   "execution_count": 10,
   "id": "9f3bb898",
   "metadata": {},
   "outputs": [
    {
     "name": "stdout",
     "output_type": "stream",
     "text": [
      "El desplazamiento colineal a la fuerza imaginaria para el acople en el plano horizontal es de -0.0000305299582039996m.\n",
      "El desplazamiento colineal a la fuerza de tiro del piñón en el plano horizontal es de 2.27412331348206E-7m.\n"
     ]
    }
   ],
   "source": [
    "# Evalúo el desplazamiento en el acople (plano XZ):\n",
    "desplazamiento_acople_xz_evaluado = desplazamiento_acople_xz.subs([(E, 210000000000), (RAZ, 926.24), (RBZ, 4478.94), (FT, 3552.70), (JA, ja), (JB, jb), (JC, jc), (JD, jd), (JE, je), (CI, 0)])\n",
    "print(f'El desplazamiento colineal a la fuerza imaginaria para el acople en el plano horizontal es de {desplazamiento_acople_xz_evaluado}m.')\n",
    "\n",
    "# Evalúo el desplazamiento en el piñón (plano XZ):\n",
    "desplazamiento_piñon_xz_evaluado = desplazamiento_piñon_xz.subs([(E, 210000000000), (RAZ, 926.24), (RBZ, 4478.94), (FT, 3552.70), (JA, ja), (JB, jb), (JC, jc), (JD, jd), (JE, je), (CI, 0)])\n",
    "print(f'El desplazamiento colineal a la fuerza de tiro del piñón en el plano horizontal es de {desplazamiento_piñon_xz_evaluado}m.')"
   ]
  },
  {
   "cell_type": "markdown",
   "id": "b308c4a1",
   "metadata": {},
   "source": [
    "<h3>Suma vectorial de las deformaciones calculadas:</h3>"
   ]
  },
  {
   "cell_type": "code",
   "execution_count": 11,
   "id": "8cfa7902",
   "metadata": {},
   "outputs": [
    {
     "name": "stdout",
     "output_type": "stream",
     "text": [
      "El desplazamiento del acople es de 0.0000305576107744554m.\n",
      "El desplazamiento del piñón es de 2.27412332205902E-7m.\n"
     ]
    }
   ],
   "source": [
    "# Cálculo de la composición para los desplazamientos colineales a las fuerzas provocadas por el acople:\n",
    "desplazamiento_acople_evaluado = sym.sqrt((desplazamiento_acople_xy_evaluado)**2 + (desplazamiento_acople_xz_evaluado)**2)\n",
    "\n",
    "# Cálculo de la composición para los desplazamientos colineales a las fuerzas provocadas por el piñón:\n",
    "desplazamiento_piñon_evaluado = sym.sqrt((desplazamiento_piñon_xy_evaluado)**2 + (desplazamiento_piñon_xz_evaluado)**2)\n",
    "\n",
    "# Muestro los resultados:\n",
    "print(f'El desplazamiento del acople es de {desplazamiento_acople_evaluado}m.')\n",
    "print(f'El desplazamiento del piñón es de {desplazamiento_piñon_evaluado}m.')"
   ]
  }
 ],
 "metadata": {
  "kernelspec": {
   "display_name": "Python 3 (ipykernel)",
   "language": "python",
   "name": "python3"
  },
  "language_info": {
   "codemirror_mode": {
    "name": "ipython",
    "version": 3
   },
   "file_extension": ".py",
   "mimetype": "text/x-python",
   "name": "python",
   "nbconvert_exporter": "python",
   "pygments_lexer": "ipython3",
   "version": "3.9.13"
  }
 },
 "nbformat": 4,
 "nbformat_minor": 5
}
